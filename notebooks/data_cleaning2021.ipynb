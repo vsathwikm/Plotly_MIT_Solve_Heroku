{
 "cells": [
  {
   "cell_type": "code",
   "execution_count": 1,
   "metadata": {},
   "outputs": [],
   "source": [
    "import pandas as pd\n",
    "import numpy as np\n",
    "from utils import zebra\n",
    "import re\n",
    "solver_data = pd.read_excel(\"2021_data.xlsx\", sheet_name='Solver Data')\n",
    "partner_data =  pd.read_excel(\"2021_data.xlsx\", sheet_name='Partner Data')\n",
    "solver_data = solver_data.rename(columns={'Solution Name': 'Org'})\n",
    "partner_data = partner_data.rename(columns={'Organization Name': 'Org',\n",
    "                                            'Challenge':'Challenge Preference',\n",
    "                                            'Stage': 'Solution Preference: Organization Stage',\n",
    "                                            'Expertise': 'Partnership Preference: Non-Financial',\n",
    "                                           'Solution Preference: Geographies': 'Geo Interest'})\n",
    "\n",
    "\n",
    "partner_data = partner_data.replace(np.nan, \"Noval\")\n",
    "solver_data  = solver_data.replace(np.nan, \"Noval\")\n",
    "solver_data_copy = solver_data.copy()"
   ]
  },
  {
   "cell_type": "code",
   "execution_count": 2,
   "metadata": {},
   "outputs": [
    {
     "data": {
      "text/plain": [
       "Index(['Source', 'Org', 'First Name', 'Last Name', 'Geo Interest',\n",
       "       'Challenge Preference', 'Solution Preference: Organization Stage',\n",
       "       'Solution Preference: Organization Type', 'Funding Preference 1',\n",
       "       'Funding Preference 2', 'Funding Preference 3',\n",
       "       'Partnership Preference: Non-Financial 1',\n",
       "       'Partnership Preference: Non-Financial 2',\n",
       "       'Partnership Preference: Non-Financial 3',\n",
       "       'Partnership Preference: Non-Financial 4',\n",
       "       'Partnership Preference: Non-Financial 5',\n",
       "       'Partnership Preference: Non-Financial 6',\n",
       "       'Partnership Preference: Non-Financial 7',\n",
       "       'Partnership Preference: Non-Financial 8',\n",
       "       'Solution Preference: Technologies',\n",
       "       'Solution Preferences: Partner Expertise',\n",
       "       'Partnership Preference: Non-Financial', 'Title',\n",
       "       'Contact Owner Alias'],\n",
       "      dtype='object')"
      ]
     },
     "execution_count": 2,
     "metadata": {},
     "output_type": "execute_result"
    }
   ],
   "source": [
    "partner_data.columns"
   ]
  },
  {
   "cell_type": "code",
   "execution_count": 3,
   "metadata": {},
   "outputs": [],
   "source": [
    "  \n",
    "def split_collect(df_cols, delimiter=','):\n",
    "    \"\"\"\n",
    "        Split each value in a cell based on a delimiter \n",
    "        and return a list of unique options \n",
    "        \n",
    "    \"\"\"\n",
    "    opts = df_cols.apply(lambda x :  x.split(delimiter)   ).to_list()\n",
    "    flatten_opts = [x.strip() for y in opts for x in y ]\n",
    "    opts = pd.DataFrame(data=flatten_opts, columns=['options'])\n",
    "    opts = opts['options'].value_counts().index.to_list()\n",
    "    return opts\n",
    "\n",
    "\n",
    "def expand_col(df_col, delimiter=',',col_name='new_col'): \n",
    "    \"\"\"\n",
    "    Take in a pandas series whose elements are\n",
    "    a string. Split each cell of the series with\n",
    "    a delimiter which is used togenerate an N column dataframe. \n",
    "    N is the longest list amongst the cells of df_col after\n",
    "    they have been split\n",
    "    \n",
    "    \"\"\"\n",
    "#     df_col = df_col.apply(lambda x : x.str.split(delimiter)).to_list()\n",
    "    df_col = df_col.str.split(delimiter).to_list()\n",
    "    new_df = pd.DataFrame(data=df_col)\n",
    "    ncols = len(new_df.columns)\n",
    "    new_names = []\n",
    "    for x in range(1, ncols+1): \n",
    "        new_name =\"\".join((col_name,'_', str(x)))\n",
    "        new_df = new_df.rename(columns={x-1:new_name})\n",
    "    return new_df\n",
    "\n",
    "\n",
    "def match_single_to_multi(single_df, multi_df, single_match_on='None'): \n",
    "    \"\"\"\n",
    "    Generate a pivot table between a df which has a single of choices \n",
    "    and a df with multiple columns of choices\n",
    "    \n",
    "    \"\"\"\n",
    "    melted_df = pd.melt(multi_df,id_vars='Org')\n",
    "    melted_df = melted_df.drop(columns='variable')\n",
    "    melted_df = melted_df.apply(lambda x: x.str.strip() if x.dtype == \"object\" else x)\n",
    "    single_df = single_df.apply(lambda x: x.str.strip() if x.dtype == \"object\" else x)\n",
    "    matched_df = pd.merge(melted_df, single_df, how='outer', left_on='value', right_on=single_match_on)\n",
    "    matched_df = matched_df.replace(np.nan, 'Noval')\n",
    "    matched_df['value'] = matched_df['value'].apply(lambda x : 0 if x == None else 1)\n",
    "    pivot_table = pd.pivot_table(matched_df, index='Org_x', columns=['Org_y'], values='value', dropna=False,  aggfunc=np.sum)\n",
    "\n",
    "    return pivot_table\n",
    "\n",
    "\n",
    "def match_multi(df1, df2):\n",
    "    \"\"\"\n",
    "    Match a feature with multiple options to another option with multiple options\n",
    "    \"\"\"\n",
    "    \n",
    "    melted_df1 = pd.melt(df1,id_vars='Org').fillna('Noval')\n",
    "    melted_df2 = pd.melt(df2, id_vars='Org').fillna('Noval')\n",
    "    melted_df1 = melted_df1.drop(columns='variable')\n",
    "    melted_df2 = melted_df2.drop(columns='variable')\n",
    "    melted_df1 = melted_df1.apply(lambda x: x.str.strip() if x.dtype == \"object\" else x)\n",
    "    melted_df2 = melted_df2.apply(lambda x: x.str.strip() if x.dtype == \"object\" else x)\n",
    "    matched_df = pd.merge(melted_df1, melted_df2, how='outer', left_on='value', right_on='value')\n",
    "    matched_df = matched_df.replace(np.nan, 'Noval')\n",
    "    matched_df['value'] = matched_df['value'].apply(lambda x : 0 if  x == 'Noval' else 1)\n",
    "    pivot_table = pd.pivot_table(matched_df, index='Org_x', columns=['Org_y'], values='value',aggfunc=np.sum)\n",
    "    return pivot_table\n",
    "                              "
   ]
  },
  {
   "cell_type": "markdown",
   "metadata": {},
   "source": [
    "## Challenge column cleaning and matching\n"
   ]
  },
  {
   "cell_type": "code",
   "execution_count": 4,
   "metadata": {},
   "outputs": [],
   "source": [
    "partner_challenge  = partner_data['Challenge Preference']\n",
    "partner_data['Challenge Preference'] = partner_data['Challenge Preference'].apply(lambda x: x.strip().replace(';',',') if ';' in x else x.strip() )\n",
    "partner_challenge_cols = expand_col(partner_data['Challenge Preference'], col_name ='Challenge')\n",
    "partner_challenge_opts = split_collect(partner_data['Challenge Preference'])\n"
   ]
  },
  {
   "cell_type": "code",
   "execution_count": 5,
   "metadata": {},
   "outputs": [
    {
     "data": {
      "text/plain": [
       "True"
      ]
     },
     "execution_count": 5,
     "metadata": {},
     "output_type": "execute_result"
    }
   ],
   "source": [
    "solver_challenge_opts = split_collect(solver_data['Challenge'])\n",
    "set(solver_challenge_opts).issubset(set(partner_challenge_opts))"
   ]
  },
  {
   "cell_type": "markdown",
   "metadata": {},
   "source": [
    "## Add challenge columns to partner data sheet"
   ]
  },
  {
   "cell_type": "code",
   "execution_count": 6,
   "metadata": {},
   "outputs": [
    {
     "data": {
      "text/html": [
       "<div>\n",
       "<style scoped>\n",
       "    .dataframe tbody tr th:only-of-type {\n",
       "        vertical-align: middle;\n",
       "    }\n",
       "\n",
       "    .dataframe tbody tr th {\n",
       "        vertical-align: top;\n",
       "    }\n",
       "\n",
       "    .dataframe thead th {\n",
       "        text-align: right;\n",
       "    }\n",
       "</style>\n",
       "<table border=\"1\" class=\"dataframe\">\n",
       "  <thead>\n",
       "    <tr style=\"text-align: right;\">\n",
       "      <th></th>\n",
       "      <th>Source</th>\n",
       "      <th>Org</th>\n",
       "      <th>First Name</th>\n",
       "      <th>Last Name</th>\n",
       "      <th>Geo Interest</th>\n",
       "      <th>Solution Preference: Organization Stage</th>\n",
       "      <th>Solution Preference: Organization Type</th>\n",
       "      <th>Funding Preference 1</th>\n",
       "      <th>Funding Preference 2</th>\n",
       "      <th>Funding Preference 3</th>\n",
       "      <th>...</th>\n",
       "      <th>Challenge_5</th>\n",
       "      <th>Challenge_6</th>\n",
       "      <th>Challenge_7</th>\n",
       "      <th>Challenge_8</th>\n",
       "      <th>Challenge_9</th>\n",
       "      <th>Challenge_10</th>\n",
       "      <th>Challenge_11</th>\n",
       "      <th>Challenge_12</th>\n",
       "      <th>Challenge_13</th>\n",
       "      <th>Challenge_14</th>\n",
       "    </tr>\n",
       "  </thead>\n",
       "  <tbody>\n",
       "    <tr>\n",
       "      <th>0</th>\n",
       "      <td>SF Export</td>\n",
       "      <td>Access Afya</td>\n",
       "      <td>Melissa</td>\n",
       "      <td>Menke</td>\n",
       "      <td>Sub-Saharan Africa; South Asia</td>\n",
       "      <td>Noval</td>\n",
       "      <td>Noval</td>\n",
       "      <td>Noval</td>\n",
       "      <td>Noval</td>\n",
       "      <td>Noval</td>\n",
       "      <td>...</td>\n",
       "      <td>None</td>\n",
       "      <td>None</td>\n",
       "      <td>None</td>\n",
       "      <td>None</td>\n",
       "      <td>None</td>\n",
       "      <td>None</td>\n",
       "      <td>None</td>\n",
       "      <td>None</td>\n",
       "      <td>None</td>\n",
       "      <td>None</td>\n",
       "    </tr>\n",
       "    <tr>\n",
       "      <th>1</th>\n",
       "      <td>SF Export</td>\n",
       "      <td>Amazon</td>\n",
       "      <td>Nicola</td>\n",
       "      <td>Poirier</td>\n",
       "      <td>North America</td>\n",
       "      <td>Concept; Prototype; Pilot; Growth; Scale</td>\n",
       "      <td>For-Profit; Nonprofit; Not Registered as Any O...</td>\n",
       "      <td>Noval</td>\n",
       "      <td>Noval</td>\n",
       "      <td>Noval</td>\n",
       "      <td>...</td>\n",
       "      <td>None</td>\n",
       "      <td>None</td>\n",
       "      <td>None</td>\n",
       "      <td>None</td>\n",
       "      <td>None</td>\n",
       "      <td>None</td>\n",
       "      <td>None</td>\n",
       "      <td>None</td>\n",
       "      <td>None</td>\n",
       "      <td>None</td>\n",
       "    </tr>\n",
       "    <tr>\n",
       "      <th>2</th>\n",
       "      <td>SF Export</td>\n",
       "      <td>American Family Insurance Institute for Corpor...</td>\n",
       "      <td>John</td>\n",
       "      <td>McIntyre</td>\n",
       "      <td>North America</td>\n",
       "      <td>Concept; Prototype; Pilot; Growth; Scale</td>\n",
       "      <td>For-Profit</td>\n",
       "      <td>Pre-committed prize funding</td>\n",
       "      <td>Equity funding</td>\n",
       "      <td>Noval</td>\n",
       "      <td>...</td>\n",
       "      <td>Work of the Future</td>\n",
       "      <td>Teachers &amp; Educators</td>\n",
       "      <td>Coastal Communities</td>\n",
       "      <td>Women &amp; Technology</td>\n",
       "      <td>Brain Health</td>\n",
       "      <td>Youth Skills &amp; the Workforce of the Future</td>\n",
       "      <td>Sustainable Urban Communities</td>\n",
       "      <td>Inclusive Innovation</td>\n",
       "      <td>None</td>\n",
       "      <td>None</td>\n",
       "    </tr>\n",
       "    <tr>\n",
       "      <th>3</th>\n",
       "      <td>SF Export</td>\n",
       "      <td>American Student Assistance (ASA)</td>\n",
       "      <td>Annabel</td>\n",
       "      <td>Cellini</td>\n",
       "      <td>North America</td>\n",
       "      <td>Concept; Prototype; Pilot; Growth; Scale</td>\n",
       "      <td>For-Profit; Nonprofit; Hybrid of For-Profit &amp; ...</td>\n",
       "      <td>Grant funding</td>\n",
       "      <td>Equity funding</td>\n",
       "      <td>Noval</td>\n",
       "      <td>...</td>\n",
       "      <td>None</td>\n",
       "      <td>None</td>\n",
       "      <td>None</td>\n",
       "      <td>None</td>\n",
       "      <td>None</td>\n",
       "      <td>None</td>\n",
       "      <td>None</td>\n",
       "      <td>None</td>\n",
       "      <td>None</td>\n",
       "      <td>None</td>\n",
       "    </tr>\n",
       "    <tr>\n",
       "      <th>4</th>\n",
       "      <td>SF Export</td>\n",
       "      <td>Americares</td>\n",
       "      <td>Sandy</td>\n",
       "      <td>Dickson</td>\n",
       "      <td>Latin America and the Caribbean; Middle East a...</td>\n",
       "      <td>Pilot; Growth; Scale</td>\n",
       "      <td>For-Profit; Nonprofit; Not Registered as Any O...</td>\n",
       "      <td>Grant funding</td>\n",
       "      <td>Equity funding</td>\n",
       "      <td>Noval</td>\n",
       "      <td>...</td>\n",
       "      <td>None</td>\n",
       "      <td>None</td>\n",
       "      <td>None</td>\n",
       "      <td>None</td>\n",
       "      <td>None</td>\n",
       "      <td>None</td>\n",
       "      <td>None</td>\n",
       "      <td>None</td>\n",
       "      <td>None</td>\n",
       "      <td>None</td>\n",
       "    </tr>\n",
       "    <tr>\n",
       "      <th>...</th>\n",
       "      <td>...</td>\n",
       "      <td>...</td>\n",
       "      <td>...</td>\n",
       "      <td>...</td>\n",
       "      <td>...</td>\n",
       "      <td>...</td>\n",
       "      <td>...</td>\n",
       "      <td>...</td>\n",
       "      <td>...</td>\n",
       "      <td>...</td>\n",
       "      <td>...</td>\n",
       "      <td>...</td>\n",
       "      <td>...</td>\n",
       "      <td>...</td>\n",
       "      <td>...</td>\n",
       "      <td>...</td>\n",
       "      <td>...</td>\n",
       "      <td>...</td>\n",
       "      <td>...</td>\n",
       "      <td>...</td>\n",
       "      <td>...</td>\n",
       "    </tr>\n",
       "    <tr>\n",
       "      <th>111</th>\n",
       "      <td>SF Export</td>\n",
       "      <td>Wiley Education Services</td>\n",
       "      <td>Andrew</td>\n",
       "      <td>Tein</td>\n",
       "      <td>East Asia and Pacific; South Asia; North America</td>\n",
       "      <td>Concept; Prototype; Pilot; Growth; Scale</td>\n",
       "      <td>For-Profit; Nonprofit; Not Registered as Any O...</td>\n",
       "      <td>Noval</td>\n",
       "      <td>Noval</td>\n",
       "      <td>Noval</td>\n",
       "      <td>...</td>\n",
       "      <td>None</td>\n",
       "      <td>None</td>\n",
       "      <td>None</td>\n",
       "      <td>None</td>\n",
       "      <td>None</td>\n",
       "      <td>None</td>\n",
       "      <td>None</td>\n",
       "      <td>None</td>\n",
       "      <td>None</td>\n",
       "      <td>None</td>\n",
       "    </tr>\n",
       "    <tr>\n",
       "      <th>112</th>\n",
       "      <td>SF Export</td>\n",
       "      <td>Women's WorldWide Web (W4)</td>\n",
       "      <td>Lindsey</td>\n",
       "      <td>Nefesh-Clarke</td>\n",
       "      <td>Sub-Saharan Africa; East Asia and Pacific</td>\n",
       "      <td>Concept; Prototype; Pilot</td>\n",
       "      <td>Nonprofit; Hybrid of For-Profit &amp; Nonprofit</td>\n",
       "      <td>Pre-committed prize funding</td>\n",
       "      <td>Grant funding</td>\n",
       "      <td>Noval</td>\n",
       "      <td>...</td>\n",
       "      <td>Youth Skills &amp; the Workforce of the Future</td>\n",
       "      <td>Inclusive Innovation</td>\n",
       "      <td>None</td>\n",
       "      <td>None</td>\n",
       "      <td>None</td>\n",
       "      <td>None</td>\n",
       "      <td>None</td>\n",
       "      <td>None</td>\n",
       "      <td>None</td>\n",
       "      <td>None</td>\n",
       "    </tr>\n",
       "    <tr>\n",
       "      <th>113</th>\n",
       "      <td>SF Export</td>\n",
       "      <td>X Prize Foundation</td>\n",
       "      <td>Amir</td>\n",
       "      <td>Banifatemi</td>\n",
       "      <td>Latin America and the Caribbean; Europe and Ce...</td>\n",
       "      <td>Growth</td>\n",
       "      <td>Noval</td>\n",
       "      <td>Noval</td>\n",
       "      <td>Noval</td>\n",
       "      <td>Noval</td>\n",
       "      <td>...</td>\n",
       "      <td>None</td>\n",
       "      <td>None</td>\n",
       "      <td>None</td>\n",
       "      <td>None</td>\n",
       "      <td>None</td>\n",
       "      <td>None</td>\n",
       "      <td>None</td>\n",
       "      <td>None</td>\n",
       "      <td>None</td>\n",
       "      <td>None</td>\n",
       "    </tr>\n",
       "    <tr>\n",
       "      <th>114</th>\n",
       "      <td>SF Export</td>\n",
       "      <td>X, The Moonshot Factory</td>\n",
       "      <td>Erica</td>\n",
       "      <td>Bliss</td>\n",
       "      <td>Middle East and North Africa; Sub-Saharan Afri...</td>\n",
       "      <td>Noval</td>\n",
       "      <td>Noval</td>\n",
       "      <td>Noval</td>\n",
       "      <td>Noval</td>\n",
       "      <td>Noval</td>\n",
       "      <td>...</td>\n",
       "      <td>None</td>\n",
       "      <td>None</td>\n",
       "      <td>None</td>\n",
       "      <td>None</td>\n",
       "      <td>None</td>\n",
       "      <td>None</td>\n",
       "      <td>None</td>\n",
       "      <td>None</td>\n",
       "      <td>None</td>\n",
       "      <td>None</td>\n",
       "    </tr>\n",
       "    <tr>\n",
       "      <th>115</th>\n",
       "      <td>SF Export</td>\n",
       "      <td>YUM Brands</td>\n",
       "      <td>Jon</td>\n",
       "      <td>Hixson</td>\n",
       "      <td>Latin America and the Caribbean; Europe and Ce...</td>\n",
       "      <td>Prototype; Pilot; Scale</td>\n",
       "      <td>For-Profit</td>\n",
       "      <td>Grant funding</td>\n",
       "      <td>Noval</td>\n",
       "      <td>Noval</td>\n",
       "      <td>...</td>\n",
       "      <td>None</td>\n",
       "      <td>None</td>\n",
       "      <td>None</td>\n",
       "      <td>None</td>\n",
       "      <td>None</td>\n",
       "      <td>None</td>\n",
       "      <td>None</td>\n",
       "      <td>None</td>\n",
       "      <td>None</td>\n",
       "      <td>None</td>\n",
       "    </tr>\n",
       "  </tbody>\n",
       "</table>\n",
       "<p>116 rows × 37 columns</p>\n",
       "</div>"
      ],
      "text/plain": [
       "        Source                                                Org First Name  \\\n",
       "0    SF Export                                        Access Afya    Melissa   \n",
       "1    SF Export                                             Amazon     Nicola   \n",
       "2    SF Export  American Family Insurance Institute for Corpor...       John   \n",
       "3    SF Export                  American Student Assistance (ASA)    Annabel   \n",
       "4    SF Export                                         Americares      Sandy   \n",
       "..         ...                                                ...        ...   \n",
       "111  SF Export                           Wiley Education Services     Andrew   \n",
       "112  SF Export                         Women's WorldWide Web (W4)    Lindsey   \n",
       "113  SF Export                                 X Prize Foundation       Amir   \n",
       "114  SF Export                            X, The Moonshot Factory      Erica   \n",
       "115  SF Export                                         YUM Brands        Jon   \n",
       "\n",
       "         Last Name                                       Geo Interest  \\\n",
       "0            Menke                     Sub-Saharan Africa; South Asia   \n",
       "1          Poirier                                      North America   \n",
       "2         McIntyre                                      North America   \n",
       "3          Cellini                                      North America   \n",
       "4          Dickson  Latin America and the Caribbean; Middle East a...   \n",
       "..             ...                                                ...   \n",
       "111           Tein   East Asia and Pacific; South Asia; North America   \n",
       "112  Nefesh-Clarke          Sub-Saharan Africa; East Asia and Pacific   \n",
       "113     Banifatemi  Latin America and the Caribbean; Europe and Ce...   \n",
       "114          Bliss  Middle East and North Africa; Sub-Saharan Afri...   \n",
       "115         Hixson  Latin America and the Caribbean; Europe and Ce...   \n",
       "\n",
       "      Solution Preference: Organization Stage  \\\n",
       "0                                       Noval   \n",
       "1    Concept; Prototype; Pilot; Growth; Scale   \n",
       "2    Concept; Prototype; Pilot; Growth; Scale   \n",
       "3    Concept; Prototype; Pilot; Growth; Scale   \n",
       "4                        Pilot; Growth; Scale   \n",
       "..                                        ...   \n",
       "111  Concept; Prototype; Pilot; Growth; Scale   \n",
       "112                 Concept; Prototype; Pilot   \n",
       "113                                    Growth   \n",
       "114                                     Noval   \n",
       "115                   Prototype; Pilot; Scale   \n",
       "\n",
       "                Solution Preference: Organization Type  \\\n",
       "0                                                Noval   \n",
       "1    For-Profit; Nonprofit; Not Registered as Any O...   \n",
       "2                                           For-Profit   \n",
       "3    For-Profit; Nonprofit; Hybrid of For-Profit & ...   \n",
       "4    For-Profit; Nonprofit; Not Registered as Any O...   \n",
       "..                                                 ...   \n",
       "111  For-Profit; Nonprofit; Not Registered as Any O...   \n",
       "112        Nonprofit; Hybrid of For-Profit & Nonprofit   \n",
       "113                                              Noval   \n",
       "114                                              Noval   \n",
       "115                                         For-Profit   \n",
       "\n",
       "            Funding Preference 1 Funding Preference 2 Funding Preference 3  \\\n",
       "0                          Noval                Noval                Noval   \n",
       "1                          Noval                Noval                Noval   \n",
       "2    Pre-committed prize funding       Equity funding                Noval   \n",
       "3                  Grant funding       Equity funding                Noval   \n",
       "4                  Grant funding       Equity funding                Noval   \n",
       "..                           ...                  ...                  ...   \n",
       "111                        Noval                Noval                Noval   \n",
       "112  Pre-committed prize funding        Grant funding                Noval   \n",
       "113                        Noval                Noval                Noval   \n",
       "114                        Noval                Noval                Noval   \n",
       "115                Grant funding                Noval                Noval   \n",
       "\n",
       "     ...                                  Challenge_5            Challenge_6  \\\n",
       "0    ...                                         None                   None   \n",
       "1    ...                                         None                   None   \n",
       "2    ...                           Work of the Future   Teachers & Educators   \n",
       "3    ...                                         None                   None   \n",
       "4    ...                                         None                   None   \n",
       "..   ...                                          ...                    ...   \n",
       "111  ...                                         None                   None   \n",
       "112  ...   Youth Skills & the Workforce of the Future   Inclusive Innovation   \n",
       "113  ...                                         None                   None   \n",
       "114  ...                                         None                   None   \n",
       "115  ...                                         None                   None   \n",
       "\n",
       "              Challenge_7          Challenge_8    Challenge_9  \\\n",
       "0                    None                 None           None   \n",
       "1                    None                 None           None   \n",
       "2     Coastal Communities   Women & Technology   Brain Health   \n",
       "3                    None                 None           None   \n",
       "4                    None                 None           None   \n",
       "..                    ...                  ...            ...   \n",
       "111                  None                 None           None   \n",
       "112                  None                 None           None   \n",
       "113                  None                 None           None   \n",
       "114                  None                 None           None   \n",
       "115                  None                 None           None   \n",
       "\n",
       "                                    Challenge_10  \\\n",
       "0                                           None   \n",
       "1                                           None   \n",
       "2     Youth Skills & the Workforce of the Future   \n",
       "3                                           None   \n",
       "4                                           None   \n",
       "..                                           ...   \n",
       "111                                         None   \n",
       "112                                         None   \n",
       "113                                         None   \n",
       "114                                         None   \n",
       "115                                         None   \n",
       "\n",
       "                       Challenge_11           Challenge_12 Challenge_13  \\\n",
       "0                              None                   None         None   \n",
       "1                              None                   None         None   \n",
       "2     Sustainable Urban Communities   Inclusive Innovation         None   \n",
       "3                              None                   None         None   \n",
       "4                              None                   None         None   \n",
       "..                              ...                    ...          ...   \n",
       "111                            None                   None         None   \n",
       "112                            None                   None         None   \n",
       "113                            None                   None         None   \n",
       "114                            None                   None         None   \n",
       "115                            None                   None         None   \n",
       "\n",
       "    Challenge_14  \n",
       "0           None  \n",
       "1           None  \n",
       "2           None  \n",
       "3           None  \n",
       "4           None  \n",
       "..           ...  \n",
       "111         None  \n",
       "112         None  \n",
       "113         None  \n",
       "114         None  \n",
       "115         None  \n",
       "\n",
       "[116 rows x 37 columns]"
      ]
     },
     "execution_count": 6,
     "metadata": {},
     "output_type": "execute_result"
    }
   ],
   "source": [
    "partner_data_updated = partner_data.copy()\n",
    "partner_data_updated = partner_data_updated.drop(columns='Challenge Preference')\n",
    "partner_data_updated = pd.concat([partner_data_updated, partner_challenge_cols], axis=1)\n",
    "\n",
    "partner_data_updated"
   ]
  },
  {
   "cell_type": "markdown",
   "metadata": {},
   "source": [
    "## Geo Interests\n"
   ]
  },
  {
   "cell_type": "code",
   "execution_count": 7,
   "metadata": {},
   "outputs": [
    {
     "data": {
      "text/plain": [
       "['North America',\n",
       " 'Sub-Saharan Africa',\n",
       " 'East Asia and Pacific',\n",
       " 'Middle East and North Africa',\n",
       " 'Europe and Central Asia',\n",
       " 'Latin America and the Caribbean',\n",
       " 'South Asia']"
      ]
     },
     "execution_count": 7,
     "metadata": {},
     "output_type": "execute_result"
    }
   ],
   "source": [
    "partner_data_updated['Geo Interest'] = partner_data_updated['Geo Interest'].apply(lambda x: x.strip().replace(';',',') if ';' in x else x.strip() )\n",
    "partner_geo_opts = split_collect(partner_data_updated['Geo Interest'])\n",
    "partner_geo_opts"
   ]
  },
  {
   "cell_type": "code",
   "execution_count": 8,
   "metadata": {},
   "outputs": [
    {
     "data": {
      "text/plain": [
       "['Noval',\n",
       " 'Sub-Saharan Africa',\n",
       " 'South Asia',\n",
       " 'North America',\n",
       " 'Latin America and the Caribbean',\n",
       " 'Middle East and North Africa',\n",
       " 'East Asia and Pacific',\n",
       " 'Europe and Central Asia']"
      ]
     },
     "execution_count": 8,
     "metadata": {},
     "output_type": "execute_result"
    }
   ],
   "source": [
    "solver_geo_opts = solver_data[['Geo 1', 'Geo 2', 'Geo 3']].apply(lambda x : \",\".join(x)   ,axis=1)\n",
    "solver_geo_opts = split_collect(solver_geo_opts)\n",
    "solver_geo_opts"
   ]
  },
  {
   "cell_type": "code",
   "execution_count": 9,
   "metadata": {},
   "outputs": [
    {
     "data": {
      "text/plain": [
       "True"
      ]
     },
     "execution_count": 9,
     "metadata": {},
     "output_type": "execute_result"
    }
   ],
   "source": [
    "set(partner_geo_opts).issubset(set(solver_geo_opts))"
   ]
  },
  {
   "cell_type": "markdown",
   "metadata": {},
   "source": [
    "### Add geo columns to partner datasheet"
   ]
  },
  {
   "cell_type": "code",
   "execution_count": 10,
   "metadata": {},
   "outputs": [],
   "source": [
    "partner_geo_cols = partner_data_updated['Geo Interest']\n",
    "partner_geo_cols = expand_col(partner_geo_cols, col_name='geo')\n",
    "\n",
    "# remove partner geo column and add individual geo columns\n",
    "partner_data_updated = pd.concat([partner_data_updated, partner_geo_cols], axis=1)\n",
    "partner_data_updated = partner_data_updated.drop(columns=['Geo Interest'])\n"
   ]
  },
  {
   "cell_type": "markdown",
   "metadata": {},
   "source": [
    "## Key needs"
   ]
  },
  {
   "cell_type": "code",
   "execution_count": 11,
   "metadata": {},
   "outputs": [
    {
     "data": {
      "text/plain": [
       "['Noval',\n",
       " 'Introductions to network',\n",
       " 'Business model (e.g. product-market fit, strategy & development)',\n",
       " 'Mentorship',\n",
       " 'Product / Service Distribution (e.g. expanding client base)',\n",
       " 'Monitoring & Evaluation (e.g. collecting/using data, measuring impact)',\n",
       " 'Human Capital (e.g. sourcing talent, board development, etc.)',\n",
       " 'Financial (e.g. improving accounting practices, pitching to investors)',\n",
       " 'Technology (e.g. software or hardware, web development/design, data analysis, etc.)',\n",
       " 'Public Relations (e.g. branding/marketing strategy, social and global media)',\n",
       " 'Pro-bono services (i.e. legal services, business strategy services, etc.)',\n",
       " 'Incubation services',\n",
       " 'In-kind resources (i.e. office space, software licenses, products, etc.)',\n",
       " 'Other (explain below)',\n",
       " 'Legal or Regulatory Matters']"
      ]
     },
     "execution_count": 11,
     "metadata": {},
     "output_type": "execute_result"
    }
   ],
   "source": [
    "# Partnership preferences non financal from partner data\n",
    "\n",
    "pref_name = 'Partnership Preference'\n",
    "prefs_columns = [x  for x in partner_data_updated.columns if pref_name in x]\n",
    "partner_prefs_opts = partner_data_updated[prefs_columns]\n",
    "partner_prefs_opts = partner_prefs_opts.applymap(lambda x: x.strip())\n",
    "partner_prefs_opts = split_collect(partner_prefs_opts.apply(lambda x : \";\".join(x)   ,axis=1), delimiter=';')\n",
    "partner_prefs_opts"
   ]
  },
  {
   "cell_type": "code",
   "execution_count": 12,
   "metadata": {},
   "outputs": [
    {
     "data": {
      "text/plain": [
       "['Noval',\n",
       " 'Financial (e.g. improving accounting practices, pitching to investors)',\n",
       " 'Public Relations (e.g. branding/marketing strategy, social and global media)',\n",
       " 'Human Capital (e.g. sourcing talent, board development, etc.)',\n",
       " 'Business model (e.g. product-market fit, strategy & development)',\n",
       " 'Technology (e.g. software or hardware, web development/design, data analysis, etc.)',\n",
       " 'Product / Service Distribution (e.g. expanding client base)',\n",
       " 'Legal or Regulatory Matters',\n",
       " 'Other (explain below)',\n",
       " 'Monitoring & Evaluation (e.g. collecting/using data, measuring impact)',\n",
       " 'Human Capital (i.e. sourcing talent, board development, etc.)']"
      ]
     },
     "execution_count": 12,
     "metadata": {},
     "output_type": "execute_result"
    }
   ],
   "source": [
    "needs_name = 'Key Need'\n",
    "needs_columns = [x  for x in solver_data.columns if needs_name in x]\n",
    "solver_needs_opts = solver_data[needs_columns]\n",
    "solver_needs_opts = solver_needs_opts.applymap(lambda x: x.strip())\n",
    "solver_needs_opts = split_collect(solver_needs_opts.apply(lambda x : \";\".join(x)   ,axis=1), delimiter=';')\n",
    "solver_needs_opts"
   ]
  },
  {
   "cell_type": "code",
   "execution_count": 13,
   "metadata": {},
   "outputs": [
    {
     "data": {
      "text/plain": [
       "{'Human Capital (i.e. sourcing talent, board development, etc.)'}"
      ]
     },
     "execution_count": 13,
     "metadata": {},
     "output_type": "execute_result"
    }
   ],
   "source": [
    "# Check if all the solver need options are in partner preferences\n",
    "set(solver_needs_opts).difference(set(partner_prefs_opts))"
   ]
  },
  {
   "cell_type": "code",
   "execution_count": 14,
   "metadata": {},
   "outputs": [
    {
     "data": {
      "text/plain": [
       "{'In-kind resources (i.e. office space, software licenses, products, etc.)',\n",
       " 'Incubation services',\n",
       " 'Introductions to network',\n",
       " 'Mentorship',\n",
       " 'Pro-bono services (i.e. legal services, business strategy services, etc.)'}"
      ]
     },
     "execution_count": 14,
     "metadata": {},
     "output_type": "execute_result"
    }
   ],
   "source": [
    "# Check the opposite of the above\n",
    "set(partner_prefs_opts).difference(set(solver_needs_opts))"
   ]
  },
  {
   "cell_type": "code",
   "execution_count": 15,
   "metadata": {},
   "outputs": [],
   "source": [
    "# Correcting Human Captial in partner data\n",
    "wrong_str1 = 'Human Capital (e.g. sourcing talent, board development, etc.)'\n",
    "correct_str1 = 'Human Capital (i.e. sourcing talent, board development, etc.)'\n",
    "partner_data_updated = partner_data_updated.applymap(lambda x: x.strip() if isinstance(x, str) else x)\n",
    "\n",
    "for pref in prefs_columns:\n",
    "    partner_data_updated[pref] = partner_data_updated[pref].apply(lambda x: x.strip().replace(wrong_str1, correct_str1) if x == wrong_str1 else x )\n",
    "\n"
   ]
  },
  {
   "cell_type": "code",
   "execution_count": 16,
   "metadata": {},
   "outputs": [],
   "source": [
    "# Correcting Capital in solver data\n",
    "wrong_str1 = 'Human Capital (e.g. sourcing talent, board development, etc.)'\n",
    "correct_str2 = 'Human Capital (i.e. sourcing talent, board development, etc.)'\n",
    "solver_data_updated = solver_data.copy()\n",
    "solver_data_updated = solver_data_updated.applymap(lambda x: x.strip() if isinstance(x, str) else x)\n",
    "\n",
    "for pref in needs_columns:\n",
    "    solver_data_updated[pref] = solver_data_updated[pref].apply(lambda x: x.strip().replace(wrong_str1, correct_str1) if x == wrong_str1 else x )\n",
    "    \n",
    "\n"
   ]
  },
  {
   "cell_type": "code",
   "execution_count": null,
   "metadata": {},
   "outputs": [],
   "source": []
  },
  {
   "cell_type": "code",
   "execution_count": 17,
   "metadata": {},
   "outputs": [
    {
     "data": {
      "text/plain": [
       "['Noval',\n",
       " 'Introductions to network',\n",
       " 'Business model (e.g. product-market fit, strategy & development)',\n",
       " 'Mentorship',\n",
       " 'Product / Service Distribution (e.g. expanding client base)',\n",
       " 'Monitoring & Evaluation (e.g. collecting/using data, measuring impact)',\n",
       " 'Human Capital (i.e. sourcing talent, board development, etc.)',\n",
       " 'Financial (e.g. improving accounting practices, pitching to investors)',\n",
       " 'Technology (e.g. software or hardware, web development/design, data analysis, etc.)',\n",
       " 'Public Relations (e.g. branding/marketing strategy, social and global media)',\n",
       " 'Pro-bono services (i.e. legal services, business strategy services, etc.)',\n",
       " 'Incubation services',\n",
       " 'In-kind resources (i.e. office space, software licenses, products, etc.)',\n",
       " 'Other (explain below)',\n",
       " 'Legal or Regulatory Matters']"
      ]
     },
     "execution_count": 17,
     "metadata": {},
     "output_type": "execute_result"
    }
   ],
   "source": [
    "# Partnership preferences non financal from partner data\n",
    "\n",
    "pref_name = 'Partnership Preference'\n",
    "prefs_columns = [x  for x in partner_data_updated.columns if pref_name in x]\n",
    "partner_prefs_opts = partner_data_updated[prefs_columns]\n",
    "partner_prefs_opts = partner_prefs_opts.applymap(lambda x: x.strip())\n",
    "partner_prefs_opts = split_collect(partner_prefs_opts.apply(lambda x : \";\".join(x)   ,axis=1), delimiter=';')\n",
    "partner_prefs_opts\n"
   ]
  },
  {
   "cell_type": "markdown",
   "metadata": {},
   "source": [
    "## Stage Match"
   ]
  },
  {
   "cell_type": "code",
   "execution_count": 18,
   "metadata": {},
   "outputs": [],
   "source": [
    "partner_data_updated['Solution Preference: Organization Stage'] = partner_data_updated['Solution Preference: Organization Stage'].apply(lambda x : x.replace(';',',' if ';' in x else x))\n",
    "partner_stage = partner_data_updated['Solution Preference: Organization Stage']\n",
    "partner_stage_opts = split_collect(partner_stage)"
   ]
  },
  {
   "cell_type": "code",
   "execution_count": 19,
   "metadata": {},
   "outputs": [
    {
     "data": {
      "text/plain": [
       "set()"
      ]
     },
     "execution_count": 19,
     "metadata": {},
     "output_type": "execute_result"
    }
   ],
   "source": [
    "solver_stage_opts = split_collect(solver_data_updated['Stage'])\n",
    "set(solver_stage_opts).difference(set(partner_stage_opts))"
   ]
  },
  {
   "cell_type": "markdown",
   "metadata": {},
   "source": [
    "### Add seprated stage columns to partner data sheet\n"
   ]
  },
  {
   "cell_type": "code",
   "execution_count": 20,
   "metadata": {},
   "outputs": [],
   "source": [
    "partner_stage_cols = expand_col(partner_stage, col_name='Stage')\n",
    "partner_data_updated = pd.concat([partner_data_updated, partner_stage_cols], axis=1)\n",
    "partner_data_updated = partner_data_updated.drop(columns=['Solution Preference: Organization Stage'])\n"
   ]
  },
  {
   "cell_type": "markdown",
   "metadata": {},
   "source": [
    "## Tech Match"
   ]
  },
  {
   "cell_type": "code",
   "execution_count": 21,
   "metadata": {},
   "outputs": [
    {
     "data": {
      "text/plain": [
       "{'Biomimicry', 'Blockchain', 'Virtual Reality/Augmented Reality'}"
      ]
     },
     "execution_count": 21,
     "metadata": {},
     "output_type": "execute_result"
    }
   ],
   "source": [
    "partner_tech_opts = split_collect(partner_data_updated['Solution Preference: Technologies'], delimiter=\";\")\n",
    "tech_name = 'Tech'\n",
    "tech_cols = [x for x in solver_data_updated.columns if  tech_name in x]\n",
    "tech_cols.append('Org')\n",
    "solver_tech_cols = solver_data_updated[tech_cols]\n",
    "solver_tech_opts = split_collect(solver_tech_cols.apply(lambda x : \";\".join(x), axis=1), delimiter=\";\")\n",
    "set(partner_tech_opts).difference(solver_tech_opts)\n"
   ]
  },
  {
   "cell_type": "code",
   "execution_count": 22,
   "metadata": {},
   "outputs": [],
   "source": [
    "partner_tech_cols = expand_col(partner_data_updated['Solution Preference: Technologies'], col_name='tech')\n",
    "partner_data_updated = pd.concat([partner_data_updated, partner_tech_cols], axis=1)\n",
    "partner_data_updated = partner_data_updated.drop(columns=['Solution Preference: Technologies'])"
   ]
  },
  {
   "cell_type": "markdown",
   "metadata": {},
   "source": [
    "# All matching sheets calculated here\n",
    "##  Challenge Matching sheet\n"
   ]
  },
  {
   "cell_type": "code",
   "execution_count": 23,
   "metadata": {},
   "outputs": [
    {
     "data": {
      "text/plain": [
       "Index(['Source', 'Org', 'First Name', 'Last Name',\n",
       "       'Solution Preference: Organization Type', 'Funding Preference 1',\n",
       "       'Funding Preference 2', 'Funding Preference 3',\n",
       "       'Partnership Preference: Non-Financial 1',\n",
       "       'Partnership Preference: Non-Financial 2',\n",
       "       'Partnership Preference: Non-Financial 3',\n",
       "       'Partnership Preference: Non-Financial 4',\n",
       "       'Partnership Preference: Non-Financial 5',\n",
       "       'Partnership Preference: Non-Financial 6',\n",
       "       'Partnership Preference: Non-Financial 7',\n",
       "       'Partnership Preference: Non-Financial 8',\n",
       "       'Solution Preferences: Partner Expertise',\n",
       "       'Partnership Preference: Non-Financial', 'Title', 'Contact Owner Alias',\n",
       "       'Challenge_1', 'Challenge_2', 'Challenge_3', 'Challenge_4',\n",
       "       'Challenge_5', 'Challenge_6', 'Challenge_7', 'Challenge_8',\n",
       "       'Challenge_9', 'Challenge_10', 'Challenge_11', 'Challenge_12',\n",
       "       'Challenge_13', 'Challenge_14', 'geo_1', 'geo_2', 'geo_3', 'geo_4',\n",
       "       'geo_5', 'geo_6', 'geo_7', 'Stage_1', 'Stage_2', 'Stage_3', 'Stage_4',\n",
       "       'Stage_5', 'tech_1'],\n",
       "      dtype='object')"
      ]
     },
     "execution_count": 23,
     "metadata": {},
     "output_type": "execute_result"
    }
   ],
   "source": [
    "partner_data_updated = partner_data_updated.replace('None', 'Noval' ,regex=True)\n",
    "solver_data_updated = solver_data_updated.replace('None', 'Noval', regex=True)\n",
    "partner_data_updated = partner_data_updated.replace(np.nan, \"Noval\")\n",
    "solver_data_updated  = solver_data_updated.replace(np.nan, \"Noval\")\n",
    "partner_data_updated.columns"
   ]
  },
  {
   "cell_type": "code",
   "execution_count": 24,
   "metadata": {},
   "outputs": [],
   "source": [
    "chname = 'Challenge'\n",
    "challenge_cols = [x for x in partner_data_updated.columns if chname in x ]\n",
    "partner_challenge_cols = partner_data_updated[challenge_cols]"
   ]
  },
  {
   "cell_type": "code",
   "execution_count": 25,
   "metadata": {},
   "outputs": [
    {
     "name": "stderr",
     "output_type": "stream",
     "text": [
      "/home/pawan/.local/lib/python3.6/site-packages/ipykernel_launcher.py:2: SettingWithCopyWarning: \n",
      "A value is trying to be set on a copy of a slice from a DataFrame.\n",
      "Try using .loc[row_indexer,col_indexer] = value instead\n",
      "\n",
      "See the caveats in the documentation: https://pandas.pydata.org/pandas-docs/stable/user_guide/indexing.html#returning-a-view-versus-a-copy\n",
      "  \n"
     ]
    },
    {
     "data": {
      "text/plain": [
       "(112, 36)"
      ]
     },
     "execution_count": 25,
     "metadata": {},
     "output_type": "execute_result"
    }
   ],
   "source": [
    "\n",
    "solver_challenge_cols = solver_data_updated[['Org', 'Challenge']]\n",
    "partner_challenge_cols['Org'] = partner_data_updated['Org']\n",
    "challenge_match = match_single_to_multi(solver_challenge_cols, partner_challenge_cols, single_match_on='Challenge')\n",
    "\n",
    "if 'Noval' in challenge_match.columns: \n",
    "    challenge_match = challenge_match.drop(columns=['Noval'])\n",
    "challenge_match.shape"
   ]
  },
  {
   "cell_type": "markdown",
   "metadata": {},
   "source": [
    "## Geo Matching sheet\n"
   ]
  },
  {
   "cell_type": "code",
   "execution_count": 26,
   "metadata": {},
   "outputs": [
    {
     "data": {
      "text/plain": [
       "(112, 36)"
      ]
     },
     "execution_count": 26,
     "metadata": {},
     "output_type": "execute_result"
    }
   ],
   "source": [
    "geo_cols = [x for x in partner_data_updated.columns if 'geo' in x]\n",
    "geo_cols.append('Org')\n",
    "partner_geo_cols = partner_data_updated[geo_cols]\n",
    "\n",
    "solver_geo_cols = solver_data_updated[['Org', 'Geo 1', 'Geo 2', 'Geo 3']]\n",
    "geo_match = match_multi(partner_geo_cols,solver_geo_cols)\n",
    "if 'Noval' in geo_match.columns: \n",
    "    geo_match = geo_match.drop(columns=['Noval'])\n",
    "geo_match.shape"
   ]
  },
  {
   "cell_type": "code",
   "execution_count": 27,
   "metadata": {},
   "outputs": [],
   "source": [
    "geo_match_index = geo_match.index.tolist()"
   ]
  },
  {
   "cell_type": "markdown",
   "metadata": {},
   "source": [
    "## Needs Matching sheet"
   ]
  },
  {
   "cell_type": "code",
   "execution_count": 28,
   "metadata": {},
   "outputs": [
    {
     "data": {
      "text/plain": [
       "(112, 36)"
      ]
     },
     "execution_count": 28,
     "metadata": {},
     "output_type": "execute_result"
    }
   ],
   "source": [
    "needs_name ='Key Need'\n",
    "pref_name = 'Partnership Preference'\n",
    "prefs_columns = [x  for x in partner_data_updated.columns if pref_name in x]\n",
    "needs_columns = [x  for x in solver_data_updated.columns if needs_name in x]\n",
    "prefs_columns.append('Org')\n",
    "needs_columns.append('Org')\n",
    "partner_prefs_cols = partner_data_updated[prefs_columns]\n",
    "solver_needs_cols = solver_data_updated[needs_columns]\n",
    "needs_match = match_multi(partner_prefs_cols, solver_needs_cols)\n",
    "if 'Noval' in needs_match.columns: \n",
    "    needs_match = needs_match.drop(columns=['Noval'])\n",
    "needs_match.shape\n"
   ]
  },
  {
   "cell_type": "code",
   "execution_count": 29,
   "metadata": {},
   "outputs": [],
   "source": [
    "needs_match_index = needs_match.index.tolist()"
   ]
  },
  {
   "cell_type": "code",
   "execution_count": 30,
   "metadata": {},
   "outputs": [
    {
     "data": {
      "text/plain": [
       "set()"
      ]
     },
     "execution_count": 30,
     "metadata": {},
     "output_type": "execute_result"
    }
   ],
   "source": [
    "set(needs_match_index).difference(set(geo_match_index))"
   ]
  },
  {
   "cell_type": "markdown",
   "metadata": {},
   "source": [
    "## Stage Matching sheet"
   ]
  },
  {
   "cell_type": "code",
   "execution_count": 31,
   "metadata": {},
   "outputs": [
    {
     "data": {
      "text/plain": [
       "(112, 36)"
      ]
     },
     "execution_count": 31,
     "metadata": {},
     "output_type": "execute_result"
    }
   ],
   "source": [
    "stage_name = 'Stage'\n",
    "stage_columns = [x  for x in partner_data_updated.columns if stage_name in x]\n",
    "stage_columns.append('Org')\n",
    "partner_stage_cols = partner_data_updated[stage_columns]\n",
    "solver_stage_cols = solver_data_updated[['Stage', 'Org']]\n",
    "stage_match = match_single_to_multi(solver_stage_cols, partner_stage_cols, single_match_on='Stage')\n",
    "\n",
    "if 'Noval' in stage_match.columns: \n",
    "    stage_match = stage_match.drop(columns=['Noval'])\n",
    "stage_match.shape"
   ]
  },
  {
   "cell_type": "code",
   "execution_count": 32,
   "metadata": {},
   "outputs": [
    {
     "data": {
      "text/plain": [
       "set()"
      ]
     },
     "execution_count": 32,
     "metadata": {},
     "output_type": "execute_result"
    }
   ],
   "source": [
    "set(stage_match.columns.to_list()).difference(set(needs_match.columns.to_list()))"
   ]
  },
  {
   "cell_type": "markdown",
   "metadata": {},
   "source": [
    "## Tech Matching Sheet"
   ]
  },
  {
   "cell_type": "code",
   "execution_count": 33,
   "metadata": {},
   "outputs": [],
   "source": [
    "tech_name = 'tech'\n",
    "tech_cols = [x for x in partner_data_updated.columns if  tech_name in x]\n",
    "tech_cols.append('Org')\n",
    "partner_tech_cols = partner_data_updated[tech_cols]"
   ]
  },
  {
   "cell_type": "code",
   "execution_count": 34,
   "metadata": {},
   "outputs": [
    {
     "name": "stderr",
     "output_type": "stream",
     "text": [
      "/home/pawan/.local/lib/python3.6/site-packages/ipykernel_launcher.py:1: SettingWithCopyWarning: \n",
      "A value is trying to be set on a copy of a slice from a DataFrame.\n",
      "Try using .loc[row_indexer,col_indexer] = value instead\n",
      "\n",
      "See the caveats in the documentation: https://pandas.pydata.org/pandas-docs/stable/user_guide/indexing.html#returning-a-view-versus-a-copy\n",
      "  \"\"\"Entry point for launching an IPython kernel.\n"
     ]
    },
    {
     "data": {
      "text/plain": [
       "(112, 36)"
      ]
     },
     "execution_count": 34,
     "metadata": {},
     "output_type": "execute_result"
    }
   ],
   "source": [
    "partner_tech_cols['Org'] = partner_data_updated['Org']\n",
    "tech_match = match_multi(partner_tech_cols, solver_tech_cols)\n",
    "if 'Noval' in tech_match.columns:\n",
    "    tech_match = tech_match.drop(columns=['Noval'])\n",
    "if 'Noval' in tech_match.index:\n",
    "    tech_match = tech_match.drop(index='Noval', axis=0) \n",
    "tech_match.shape"
   ]
  },
  {
   "cell_type": "code",
   "execution_count": 35,
   "metadata": {},
   "outputs": [],
   "source": [
    "\n",
    "# partner_data_updated.to_excel(\"partner_data_2021.xlsx\")"
   ]
  },
  {
   "cell_type": "code",
   "execution_count": 36,
   "metadata": {},
   "outputs": [],
   "source": [
    "# solver_data_updated.to_excel(\"solver_data_2021.xlsx\")"
   ]
  },
  {
   "cell_type": "code",
   "execution_count": 37,
   "metadata": {},
   "outputs": [],
   "source": [
    "# partner_data_updated"
   ]
  },
  {
   "cell_type": "code",
   "execution_count": null,
   "metadata": {},
   "outputs": [],
   "source": []
  }
 ],
 "metadata": {
  "kernelspec": {
   "display_name": "Python 3",
   "language": "python",
   "name": "python3"
  },
  "language_info": {
   "codemirror_mode": {
    "name": "ipython",
    "version": 3
   },
   "file_extension": ".py",
   "mimetype": "text/x-python",
   "name": "python",
   "nbconvert_exporter": "python",
   "pygments_lexer": "ipython3",
   "version": "3.6.9"
  }
 },
 "nbformat": 4,
 "nbformat_minor": 4
}
